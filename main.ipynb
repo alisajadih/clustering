{
 "metadata": {
  "language_info": {
   "codemirror_mode": {
    "name": "ipython",
    "version": 3
   },
   "file_extension": ".py",
   "mimetype": "text/x-python",
   "name": "python",
   "nbconvert_exporter": "python",
   "pygments_lexer": "ipython3",
   "version": "3.8.3"
  },
  "orig_nbformat": 4,
  "kernelspec": {
   "name": "python3",
   "display_name": "Python 3.8.3 64-bit ('base': conda)"
  },
  "interpreter": {
   "hash": "dca0ade3e726a953b501b15e8e990130d2b7799f14cfd9f4271676035ebe5511"
  }
 },
 "nbformat": 4,
 "nbformat_minor": 2,
 "cells": [
  {
   "cell_type": "code",
   "execution_count": 44,
   "metadata": {},
   "outputs": [],
   "source": [
    "import numpy as np\n",
    "import pandas as pd\n",
    "import matplotlib.pyplot as plt\n",
    "from sklearn import tree\n",
    "from sklearn.model_selection import train_test_split\n",
    "from sklearn import metrics\n",
    "from sklearn.cluster import KMeans\n",
    "from sklearn.cluster import AgglomerativeClustering"
   ]
  },
  {
   "cell_type": "code",
   "execution_count": 40,
   "metadata": {},
   "outputs": [],
   "source": [
    "data = pd.read_csv('./Stars.csv')"
   ]
  },
  {
   "cell_type": "code",
   "execution_count": 41,
   "metadata": {},
   "outputs": [],
   "source": [
    "data['Color'] = data['Color'].astype('category')\n",
    "data['Spectral_Class'] = data['Spectral_Class'].astype('category')\n",
    "data['Color']=data['Color'].cat.codes\n",
    "data['Spectral_Class']=data['Spectral_Class'].cat.codes"
   ]
  },
  {
   "cell_type": "code",
   "execution_count": 42,
   "metadata": {},
   "outputs": [],
   "source": [
    "X = data.iloc[: ,0:6]\n",
    "Y = data.iloc[: , 6:7]"
   ]
  },
  {
   "cell_type": "code",
   "execution_count": 70,
   "metadata": {},
   "outputs": [
    {
     "output_type": "stream",
     "name": "stdout",
     "text": [
      "[1 1 1 1 1 1 1 1 1 1 1 1 1 1 1 1 1 1 1 1 1 1 1 1 1 1 1 1 1 1 3 1 1 1 1 1 1\n 1 1 1 3 0 5 3 3 0 5 3 3 3 3 3 3 4 0 3 0 5 3 3 1 1 1 1 1 1 1 1 1 1 1 1 1 1\n 1 1 1 1 1 1 1 1 1 1 1 1 1 1 1 1 1 1 1 1 1 1 1 1 1 3 3 2 5 3 5 3 0 3 5 0 5\n 5 3 5 5 5 3 5 3 3 1 1 1 1 1 1 1 1 1 1 1 1 1 1 1 1 1 1 1 1 1 1 1 1 1 1 1 1\n 1 1 3 1 1 1 1 1 1 1 1 3 3 3 0 3 3 5 5 3 0 0 0 5 4 0 3 5 3 5 5 3 1 1 1 1 1\n 1 1 1 1 1 1 1 1 1 1 1 1 1 1 1 1 1 1 1 1 1 1 1 1 1 1 1 1 1 3 5 1 1 1 1 3 0\n 0 4 3 3 4 2 0 2 0 3 4 2 2 0 2 4 0 0]\n"
     ]
    }
   ],
   "source": [
    "kmeans5 = KMeans(n_clusters=6)\n",
    "y_pred_kmean = kmeans5.fit_predict(X)\n",
    "print(y_pred_kmean)"
   ]
  },
  {
   "cell_type": "code",
   "execution_count": 69,
   "metadata": {},
   "outputs": [
    {
     "output_type": "stream",
     "name": "stdout",
     "text": [
      "[3 3 3 3 3 3 3 3 3 3 3 3 3 3 3 3 3 3 3 3 3 3 3 3 3 3 3 3 3 3 0 3 3 3 3 3 3\n 3 3 3 0 1 5 0 0 1 5 0 0 0 0 0 0 2 1 0 1 0 0 0 3 3 3 3 3 3 3 3 3 3 3 3 3 3\n 3 3 3 3 3 3 3 3 3 3 3 3 3 3 3 3 3 3 3 3 3 3 3 3 3 0 0 4 5 0 5 0 1 0 5 1 5\n 5 0 5 5 5 0 5 0 0 3 3 3 3 3 3 3 3 3 3 3 3 3 3 3 3 3 3 3 3 3 3 3 3 3 3 3 3\n 3 3 0 3 3 3 3 3 3 3 3 0 0 0 1 0 0 5 5 0 1 1 1 5 2 1 0 5 0 0 5 0 3 3 3 3 3\n 3 3 3 3 3 3 3 3 3 3 3 3 3 3 3 3 3 3 3 3 3 3 3 3 3 3 3 3 3 0 0 3 3 3 3 0 1\n 1 2 0 0 2 4 1 4 1 0 2 4 4 1 4 2 1 0]\n"
     ]
    }
   ],
   "source": [
    "agglomerative =  AgglomerativeClustering(n_clusters=6)\n",
    "y_pred_agglo = agglomerative.fit_predict(X)\n",
    "print(y_pred_agglo)"
   ]
  },
  {
   "cell_type": "code",
   "execution_count": 77,
   "metadata": {},
   "outputs": [],
   "source": [
    "def accuracy(y_pred , y_train) :\n",
    "    correct = 0\n",
    "    for i in range(len(Y)):\n",
    "        if Y.values[i]==y_pred[i] :\n",
    "            correct += 1\n",
    "    return correct/len(Y)"
   ]
  },
  {
   "cell_type": "code",
   "execution_count": 78,
   "metadata": {},
   "outputs": [
    {
     "output_type": "execute_result",
     "data": {
      "text/plain": [
       "0.19166666666666668"
      ]
     },
     "metadata": {},
     "execution_count": 78
    }
   ],
   "source": [
    "accuracy(y_pred_agglo , Y.values)"
   ]
  },
  {
   "cell_type": "code",
   "execution_count": 79,
   "metadata": {},
   "outputs": [
    {
     "output_type": "execute_result",
     "data": {
      "text/plain": [
       "0.24166666666666667"
      ]
     },
     "metadata": {},
     "execution_count": 79
    }
   ],
   "source": [
    "accuracy(y_pred_kmean , Y.values)"
   ]
  },
  {
   "cell_type": "code",
   "execution_count": null,
   "metadata": {},
   "outputs": [],
   "source": []
  }
 ]
}