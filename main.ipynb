{
 "metadata": {
  "language_info": {
   "codemirror_mode": {
    "name": "ipython",
    "version": 3
   },
   "file_extension": ".py",
   "mimetype": "text/x-python",
   "name": "python",
   "nbconvert_exporter": "python",
   "pygments_lexer": "ipython3",
   "version": "3.8.3"
  },
  "orig_nbformat": 4,
  "kernelspec": {
   "name": "python3",
   "display_name": "Python 3.8.3 64-bit ('base': conda)"
  },
  "interpreter": {
   "hash": "dca0ade3e726a953b501b15e8e990130d2b7799f14cfd9f4271676035ebe5511"
  }
 },
 "nbformat": 4,
 "nbformat_minor": 2,
 "cells": [
  {
   "cell_type": "code",
   "execution_count": 98,
   "metadata": {},
   "outputs": [],
   "source": [
    "import numpy as np\n",
    "import pandas as pd\n",
    "import matplotlib.pyplot as plt\n",
    "from sklearn import tree\n",
    "from sklearn.model_selection import train_test_split\n",
    "from sklearn import metrics\n",
    "from sklearn.cluster import KMeans\n",
    "from sklearn.cluster import AgglomerativeClustering\n",
    "from sklearn.preprocessing import StandardScaler\n",
    "from sklearn.preprocessing import KBinsDiscretizer"
   ]
  },
  {
   "cell_type": "code",
   "execution_count": 40,
   "metadata": {},
   "outputs": [],
   "source": [
    "data = pd.read_csv('./Stars.csv')"
   ]
  },
  {
   "cell_type": "code",
   "execution_count": 41,
   "metadata": {},
   "outputs": [],
   "source": [
    "data['Color'] = data['Color'].astype('category')\n",
    "data['Spectral_Class'] = data['Spectral_Class'].astype('category')\n",
    "data['Color']=data['Color'].cat.codes\n",
    "data['Spectral_Class']=data['Spectral_Class'].cat.codes"
   ]
  },
  {
   "cell_type": "code",
   "execution_count": 42,
   "metadata": {},
   "outputs": [],
   "source": [
    "X = data.iloc[: ,0:6]\n",
    "Y = data.iloc[: ,6:7]"
   ]
  },
  {
   "cell_type": "code",
   "execution_count": 120,
   "metadata": {},
   "outputs": [],
   "source": [
    "scaler = StandardScaler()\n",
    "scaled_features = scaler.fit_transform(X)"
   ]
  },
  {
   "cell_type": "code",
   "execution_count": 124,
   "metadata": {},
   "outputs": [
    {
     "output_type": "stream",
     "name": "stderr",
     "text": [
      "/opt/anaconda3/lib/python3.8/site-packages/sklearn/preprocessing/_discretization.py:200: UserWarning: Bins whose width are too small (i.e., <= 1e-8) in feature 4 are removed. Consider decreasing the number of bins.\n  warnings.warn('Bins whose width are too small (i.e., <= '\n/opt/anaconda3/lib/python3.8/site-packages/sklearn/preprocessing/_discretization.py:200: UserWarning: Bins whose width are too small (i.e., <= 1e-8) in feature 5 are removed. Consider decreasing the number of bins.\n  warnings.warn('Bins whose width are too small (i.e., <= '\n"
     ]
    }
   ],
   "source": [
    "discretizer = KBinsDiscretizer(n_bins=6, encode='onehot')\n",
    "discretizered_features = discretizer.fit_transform(X)"
   ]
  },
  {
   "cell_type": "code",
   "execution_count": 125,
   "metadata": {},
   "outputs": [
    {
     "output_type": "stream",
     "name": "stdout",
     "text": [
      "[3 0 0 0 0 0 0 0 0 0 3 3 3 3 0 3 3 3 3 3 1 1 1 1 1 1 1 1 1 1 2 4 4 4 4 4 4\n 4 4 4 5 5 5 5 5 5 5 5 5 2 5 5 5 5 5 5 5 5 5 5 0 3 0 0 0 0 0 0 0 0 3 3 3 3\n 3 3 3 3 0 3 1 1 1 1 1 1 1 1 1 1 4 4 4 4 4 4 4 4 4 2 2 2 2 2 2 2 2 2 2 2 5\n 5 5 5 5 5 5 5 5 5 0 0 0 0 0 0 0 0 0 0 3 3 3 3 3 3 3 3 3 3 1 1 1 1 1 1 1 1\n 1 1 4 4 4 4 4 4 4 4 4 2 2 2 2 2 2 2 2 2 2 2 5 5 5 5 5 5 2 5 5 5 0 0 0 0 0\n 0 0 0 0 0 3 3 3 3 3 3 3 3 3 3 1 1 1 1 1 1 1 1 1 1 4 4 4 4 2 2 4 4 4 4 2 2\n 2 2 2 2 2 2 2 2 5 2 2 5 5 2 2 5 5 2]\n"
     ]
    }
   ],
   "source": [
    "kmeans5 = KMeans(n_clusters=6)\n",
    "y_pred_kmean = kmeans5.fit_predict(discretizered_features)\n",
    "print(y_pred_kmean)"
   ]
  },
  {
   "cell_type": "code",
   "execution_count": 129,
   "metadata": {},
   "outputs": [
    {
     "output_type": "stream",
     "name": "stdout",
     "text": [
      "[5 2 2 5 2 2 2 2 2 2 5 5 5 5 2 5 5 5 5 5 0 0 0 0 0 0 0 0 0 0 4 3 3 3 3 3 3\n 3 3 3 1 1 1 1 1 1 1 1 1 4 1 1 1 1 1 1 1 1 1 1 2 5 2 2 2 2 2 2 2 2 5 5 5 5\n 5 5 5 5 2 5 0 0 0 0 0 0 0 0 0 0 3 3 3 3 3 3 3 3 3 4 4 4 4 4 4 4 4 4 4 4 1\n 1 1 1 1 1 1 1 1 1 2 2 2 2 2 2 2 2 2 2 5 5 5 5 5 5 5 5 5 5 0 0 0 0 0 0 0 0\n 0 0 3 3 3 3 3 3 3 3 3 4 4 4 4 4 4 4 4 4 4 4 1 1 1 1 1 1 1 1 1 1 2 2 2 2 2\n 2 2 2 2 2 2 5 5 5 5 5 5 5 5 5 0 0 0 0 0 0 0 0 0 0 3 3 3 3 4 4 3 3 3 3 4 4\n 4 4 4 4 4 4 4 4 1 1 1 1 1 1 1 1 1 1]\n"
     ]
    }
   ],
   "source": [
    "agglomerative =  AgglomerativeClustering(n_clusters=6)\n",
    "y_pred_agglo = agglomerative.fit_predict(discretizered_features.toarray())\n",
    "print(y_pred_agglo)"
   ]
  },
  {
   "cell_type": "code",
   "execution_count": 82,
   "metadata": {},
   "outputs": [],
   "source": [
    "def accuracy(y_pred , y_train) :\n",
    "    correct = 0\n",
    "    for i in range(len(Y)):\n",
    "        if Y.values[i]==y_pred[i] :\n",
    "            correct += 1\n",
    "    return correct/len(Y)"
   ]
  },
  {
   "cell_type": "code",
   "execution_count": 133,
   "metadata": {},
   "outputs": [
    {
     "output_type": "execute_result",
     "data": {
      "text/plain": [
       "0.275"
      ]
     },
     "metadata": {},
     "execution_count": 133
    }
   ],
   "source": [
    "accuracy(y_pred_agglo , Y.values)"
   ]
  },
  {
   "cell_type": "code",
   "execution_count": 131,
   "metadata": {},
   "outputs": [
    {
     "output_type": "execute_result",
     "data": {
      "text/plain": [
       "0.3"
      ]
     },
     "metadata": {},
     "execution_count": 131
    }
   ],
   "source": [
    "accuracy(y_pred_kmean , Y.values)"
   ]
  },
  {
   "cell_type": "code",
   "execution_count": null,
   "metadata": {},
   "outputs": [],
   "source": []
  }
 ]
}